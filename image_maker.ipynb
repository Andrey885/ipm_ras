{
 "cells": [
  {
   "cell_type": "code",
   "execution_count": 2,
   "metadata": {},
   "outputs": [],
   "source": [
    "import cv2\n",
    "import numpy as np\n",
    "import torch\n",
    "import matplotlib.pyplot as plt"
   ]
  },
  {
   "cell_type": "code",
   "execution_count": 41,
   "metadata": {},
   "outputs": [
    {
     "name": "stdout",
     "output_type": "stream",
     "text": [
      "0.39215686274509803\n"
     ]
    }
   ],
   "source": [
    "img=cv2.imread(r'.\\images_full\\ R214_50_periods_final1.png')/255\n",
    "print(100/255.)"
   ]
  },
  {
   "cell_type": "code",
   "execution_count": 47,
   "metadata": {},
   "outputs": [],
   "source": [
    "cap = cv2.VideoCapture('.\\RHEED\\R177_SiGe final picture.avi')\n",
    "ret, frame = cap.read()\n",
    "#cv2.rectangle(frame,(230,165),(190,450),(0,255,0),3)\n",
    "#plt.imshow(frame)\n",
    "img = frame[165:550, :500]\n",
    "text_file = open(r'.\\annotations_full.txt', \"a\")\n",
    "for i in range(20):\n",
    "    m = np.random.randint(1,4)\n",
    "    n = np.random.randint(1,4)\n",
    "    shape = (img.shape[0]/m,img.shape[1]/n)\n",
    "    target = np.array((0,0,550-165, 500))\n",
    "    \n",
    "#     cv2.rectangle(img, (target[0], target[1]),(target[2],target[3]),(0,255,0),3)\n",
    "#     plt.imshow(img, cmap = 'gray', interpolation = 'bicubic')\n",
    "    img2 = cv2.resize(img, (int(shape[0]), int(shape[1])))\n",
    "    frame = np.zeros((frame.shape[0],frame.shape[1],3))\n",
    "    x0 = np.random.randint(0, frame.shape[0] - img2.shape[0])\n",
    "    y0 = np.random.randint(0, frame.shape[1] - img2.shape[1])\n",
    "    target[0]=y0+target[0]/m\n",
    "    target[1]=x0+target[1]/n\n",
    "    target[2]=y0+target[2]/m\n",
    "    target[3]=x0+target[3]/n\n",
    "    frame[x0:(x0+img2.shape[0]), y0:(y0+img2.shape[1])] = img2/255\n",
    "    #cv2.circle(frame,(target[0], target[1]), 5, (0,255,0), -1)\n",
    "    #cv2.circle(frame,(y0,x0), 15, (0,255,0), -1)\n",
    "#     k = np.random.randint(0,100)\n",
    "#     frame += k/255.\n",
    "#     s = np.random.randint(2,8)\n",
    "#     frame /= s\n",
    "#     cv2.rectangle(frame, (int(target[0]), int(target[1])), (int(target[2]), int(target[3])),(0,255,0),1)\n",
    "#     plt.imshow(frame, cmap = 'gray', interpolation = 'bicubic')\n",
    "    name = r'.\\images_full\\ ' + 'R177_SiGe_final_picture' + str(100+i) + '.png'\n",
    "    text_file.write(name)\n",
    "    text_file.write('\\n')\n",
    "    target_line = np.array2string(target, separator = ' ')[1:-1]\n",
    "    text_file.write(target_line)\n",
    "    text_file.write('\\n')\n",
    "    plt.imsave(name,frame)\n",
    "text_file.close()"
   ]
  },
  {
   "cell_type": "code",
   "execution_count": 11,
   "metadata": {},
   "outputs": [
    {
     "ename": "TypeError",
     "evalue": "unsupported operand type(s) for /: 'NoneType' and 'int'",
     "output_type": "error",
     "traceback": [
      "\u001b[1;31m---------------------------------------------------------------------------\u001b[0m",
      "\u001b[1;31mTypeError\u001b[0m                                 Traceback (most recent call last)",
      "\u001b[1;32m<ipython-input-11-386e177d0e1c>\u001b[0m in \u001b[0;36m<module>\u001b[1;34m()\u001b[0m\n\u001b[0;32m      1\u001b[0m \u001b[0mimg\u001b[0m \u001b[1;33m=\u001b[0m \u001b[0mcv2\u001b[0m\u001b[1;33m.\u001b[0m\u001b[0mimread\u001b[0m\u001b[1;33m(\u001b[0m\u001b[1;34m'.\\images\\ R210_final_LOW INTENSITY99.png'\u001b[0m\u001b[1;33m)\u001b[0m\u001b[1;33m\u001b[0m\u001b[0m\n\u001b[0;32m      2\u001b[0m \u001b[0mcv2\u001b[0m\u001b[1;33m.\u001b[0m\u001b[0mrectangle\u001b[0m\u001b[1;33m(\u001b[0m\u001b[0mimg\u001b[0m\u001b[1;33m,\u001b[0m \u001b[1;33m(\u001b[0m\u001b[1;36m330\u001b[0m\u001b[1;33m,\u001b[0m \u001b[1;36m135\u001b[0m\u001b[1;33m)\u001b[0m\u001b[1;33m,\u001b[0m \u001b[1;33m(\u001b[0m\u001b[1;36m320\u001b[0m \u001b[1;33m,\u001b[0m\u001b[1;36m227\u001b[0m\u001b[1;33m)\u001b[0m\u001b[1;33m,\u001b[0m\u001b[1;33m(\u001b[0m\u001b[1;36m0\u001b[0m\u001b[1;33m,\u001b[0m\u001b[1;36m255\u001b[0m\u001b[1;33m,\u001b[0m\u001b[1;36m0\u001b[0m\u001b[1;33m)\u001b[0m\u001b[1;33m,\u001b[0m\u001b[1;36m1\u001b[0m\u001b[1;33m)\u001b[0m\u001b[1;33m\u001b[0m\u001b[0m\n\u001b[1;32m----> 3\u001b[1;33m \u001b[0mplt\u001b[0m\u001b[1;33m.\u001b[0m\u001b[0mimshow\u001b[0m\u001b[1;33m(\u001b[0m\u001b[0mimg\u001b[0m\u001b[1;33m/\u001b[0m\u001b[1;36m255\u001b[0m\u001b[1;33m,\u001b[0m \u001b[0mcmap\u001b[0m \u001b[1;33m=\u001b[0m \u001b[1;34m'gray'\u001b[0m\u001b[1;33m,\u001b[0m \u001b[0minterpolation\u001b[0m \u001b[1;33m=\u001b[0m \u001b[1;34m'bicubic'\u001b[0m\u001b[1;33m)\u001b[0m\u001b[1;33m\u001b[0m\u001b[0m\n\u001b[0m",
      "\u001b[1;31mTypeError\u001b[0m: unsupported operand type(s) for /: 'NoneType' and 'int'"
     ]
    }
   ],
   "source": [
    "img = cv2.imread('.\\images\\ R210_final_LOW INTENSITY99.png')\n",
    "cv2.rectangle(img, (330, 135), (320 ,227),(0,255,0),1)\n",
    "plt.imshow(img, cmap = 'gray', interpolation = 'bicubic')"
   ]
  },
  {
   "cell_type": "code",
   "execution_count": 50,
   "metadata": {},
   "outputs": [],
   "source": [
    "cap = cv2.VideoCapture('.\\RHEED\\R214_50 периодов СР+Sb_final.avi')\n",
    "ret, frame = cap.read()\n",
    "# cv2.rectangle(frame,(280,125),(250,340),(0,255,0),3)\n",
    "# plt.imshow(frame)\n",
    "img = frame[125:400, :500]\n",
    "text_file = open(r'.\\annotations_full.txt', \"a\")\n",
    "for i in range(20):\n",
    "    m = np.random.randint(1,4)\n",
    "    n = np.random.randint(1,4)\n",
    "    shape = (img.shape[0]/m,img.shape[1]/n)\n",
    "    target = np.array((0,0, img.shape[0], img.shape[1]))\n",
    "   \n",
    "#     cv2.rectangle(img, (target[0], target[1]),(target[2],target[3]),(0,255,0),3)\n",
    "#     plt.imshow(img, cmap = 'gray', interpolation = 'bicubic')\n",
    "    img2 = cv2.resize(img, (int(shape[0]), int(shape[1])))\n",
    "    frame = np.zeros((frame.shape[0],frame.shape[1],3))\n",
    "    x0 = np.random.randint(0, frame.shape[0] - img2.shape[0])\n",
    "    y0 = np.random.randint(0, frame.shape[1] - img2.shape[1])\n",
    "    target[0]=y0+target[0]/m\n",
    "    target[1]=x0+target[1]/n\n",
    "    target[2]=y0+target[2]/m\n",
    "    target[3]=x0+target[3]/n\n",
    "    frame[x0:(x0+img2.shape[0]), y0:(y0+img2.shape[1])] = img2/255\n",
    "    k = np.random.randint(0,100)\n",
    "    frame += k/255\n",
    "    s = np.random.randint(2,8)\n",
    "    frame /= s\n",
    "    #cv2.circle(frame,(target[0], target[1]), 5, (0,255,0), -1)\n",
    "    #cv2.circle(frame,(y0,x0), 15, (0,255,0), -1)\n",
    "\n",
    "#     cv2.rectangle(frame, (int(target[0]), int(target[1])), (int(target[2]), int(target[3])),(0,255,0),2)\n",
    "#     plt.imshow(frame, cmap = 'gray', interpolation = 'bicubic')\n",
    "    name = r'.\\images_full\\ ' + 'R214_50_periods_final' + str(i) + '.png'\n",
    "    \n",
    "    \n",
    "    text_file.write(name)\n",
    "    text_file.write('\\n')\n",
    "    target_line = np.array2string(target, separator = ' ')[1:-1]\n",
    "    text_file.write(target_line)\n",
    "    text_file.write('\\n')\n",
    "    plt.imsave(name,frame)\n",
    "  #  plt.imshow(frame, cmap = 'gray', interpolation = 'bicubic')\n",
    "text_file.close()"
   ]
  },
  {
   "cell_type": "code",
   "execution_count": 20,
   "metadata": {},
   "outputs": [
    {
     "ename": "error",
     "evalue": "OpenCV(3.4.3) C:\\projects\\opencv-python\\opencv\\modules\\imgproc\\src\\resize.cpp:4044: error: (-215:Assertion failed) !ssize.empty() in function 'cv::resize'\n",
     "output_type": "error",
     "traceback": [
      "\u001b[1;31m---------------------------------------------------------------------------\u001b[0m",
      "\u001b[1;31merror\u001b[0m                                     Traceback (most recent call last)",
      "\u001b[1;32m<ipython-input-20-b2139bb1d49d>\u001b[0m in \u001b[0;36m<module>\u001b[1;34m()\u001b[0m\n\u001b[0;32m      9\u001b[0m         \u001b[1;32mif\u001b[0m \u001b[0mline\u001b[0m\u001b[1;33m[\u001b[0m\u001b[1;33m-\u001b[0m\u001b[1;36m3\u001b[0m\u001b[1;33m:\u001b[0m\u001b[1;33m]\u001b[0m \u001b[1;33m==\u001b[0m \u001b[1;34m'png'\u001b[0m\u001b[1;33m:\u001b[0m\u001b[1;33m\u001b[0m\u001b[0m\n\u001b[0;32m     10\u001b[0m             \u001b[0mname\u001b[0m \u001b[1;33m=\u001b[0m \u001b[0mline\u001b[0m\u001b[1;33m\u001b[0m\u001b[0m\n\u001b[1;32m---> 11\u001b[1;33m             \u001b[0mimage\u001b[0m \u001b[1;33m=\u001b[0m \u001b[0mtorch\u001b[0m\u001b[1;33m.\u001b[0m\u001b[0mfrom_numpy\u001b[0m\u001b[1;33m(\u001b[0m\u001b[0mcv2\u001b[0m\u001b[1;33m.\u001b[0m\u001b[0mresize\u001b[0m\u001b[1;33m(\u001b[0m\u001b[0mcv2\u001b[0m\u001b[1;33m.\u001b[0m\u001b[0mimread\u001b[0m\u001b[1;33m(\u001b[0m\u001b[0mname\u001b[0m\u001b[1;33m)\u001b[0m\u001b[1;33m,\u001b[0m \u001b[1;33m(\u001b[0m\u001b[1;36m576\u001b[0m\u001b[1;33m,\u001b[0m \u001b[1;36m576\u001b[0m\u001b[1;33m)\u001b[0m\u001b[1;33m)\u001b[0m\u001b[1;33m)\u001b[0m\u001b[1;33m.\u001b[0m\u001b[0mfloat\u001b[0m\u001b[1;33m(\u001b[0m\u001b[1;33m)\u001b[0m\u001b[1;33m/\u001b[0m\u001b[1;36m255\u001b[0m\u001b[1;33m\u001b[0m\u001b[0m\n\u001b[0m\u001b[0;32m     12\u001b[0m             \u001b[0mi\u001b[0m\u001b[1;33m+=\u001b[0m\u001b[1;36m1\u001b[0m\u001b[1;33m\u001b[0m\u001b[0m\n\u001b[0;32m     13\u001b[0m         \u001b[1;32melse\u001b[0m\u001b[1;33m:\u001b[0m\u001b[1;33m\u001b[0m\u001b[0m\n",
      "\u001b[1;31merror\u001b[0m: OpenCV(3.4.3) C:\\projects\\opencv-python\\opencv\\modules\\imgproc\\src\\resize.cpp:4044: error: (-215:Assertion failed) !ssize.empty() in function 'cv::resize'\n"
     ]
    }
   ],
   "source": [
    "i = 0\n",
    "text_file = open(r'./annotations_full.txt', \"r\").read().splitlines()\n",
    "\n",
    "while i < (len(text_file)):\n",
    "    line = text_file[i]\n",
    "    for s in range(2):\n",
    "        line = text_file[i]\n",
    "\n",
    "        if line[-3:] == 'png':\n",
    "            name = line\n",
    "            image = torch.from_numpy(cv2.resize(cv2.imread(name), (576, 576))).float()/255\n",
    "            i+=1\n",
    "        else:\n",
    "            #line = '171 296 161 391'\n",
    "            target = np.fromstring(line, dtype = float, sep = ' ')\n",
    "            target[0]/=720\n",
    "            target[1]/=576\n",
    "            target[2]/=720\n",
    "            target[3]/=576\n",
    "    i+=1\n",
    "    image = cv2.imread(name)\n",
    "    # cv2.rectangle(image, (int(scores[-1][0]*720),int(scores[-1][1]*576)),(int(scores[-1][2]*720),int(scores[-1][3]*576)),(0,255,0),3)\n",
    "    cv2.rectangle(image, (int(target[0]*720),int(target[1]*576)), (int(target[2]*720),int(target[3]*576)), (255,0,0), 3)\n",
    "    cv2.imshow('im',image)\n",
    "    cv2.waitKey(200)"
   ]
  },
  {
   "cell_type": "code",
   "execution_count": null,
   "metadata": {},
   "outputs": [],
   "source": []
  }
 ],
 "metadata": {
  "kernelspec": {
   "display_name": "Python 3",
   "language": "python",
   "name": "python3"
  },
  "language_info": {
   "codemirror_mode": {
    "name": "ipython",
    "version": 3
   },
   "file_extension": ".py",
   "mimetype": "text/x-python",
   "name": "python",
   "nbconvert_exporter": "python",
   "pygments_lexer": "ipython3",
   "version": "3.6.1"
  }
 },
 "nbformat": 4,
 "nbformat_minor": 2
}
